{
  "nbformat": 4,
  "nbformat_minor": 0,
  "metadata": {
    "colab": {
      "provenance": [],
      "collapsed_sections": [],
      "toc_visible": true,
      "authorship_tag": "ABX9TyMz+eUPSWk2IF9qPDn6lZzP",
      "include_colab_link": true
    },
    "kernelspec": {
      "name": "python3",
      "display_name": "Python 3"
    },
    "language_info": {
      "name": "python"
    },
    "widgets": {
      "application/vnd.jupyter.widget-state+json": {
        "de675dde30d047dca8ebcdcb27a3ac69": {
          "model_module": "@jupyter-widgets/controls",
          "model_name": "HBoxModel",
          "model_module_version": "1.5.0",
          "state": {
            "_dom_classes": [],
            "_model_module": "@jupyter-widgets/controls",
            "_model_module_version": "1.5.0",
            "_model_name": "HBoxModel",
            "_view_count": null,
            "_view_module": "@jupyter-widgets/controls",
            "_view_module_version": "1.5.0",
            "_view_name": "HBoxView",
            "box_style": "",
            "children": [
              "IPY_MODEL_eeee56ba1ee04d06a6ff199a772f5f8d",
              "IPY_MODEL_9299c51963634e1f86319ab45216cea6",
              "IPY_MODEL_cc9a5a51090c4279b49861ddc6f6039c"
            ],
            "layout": "IPY_MODEL_2b9d930bedfc461bb6df0597a2a5df91"
          }
        },
        "eeee56ba1ee04d06a6ff199a772f5f8d": {
          "model_module": "@jupyter-widgets/controls",
          "model_name": "HTMLModel",
          "model_module_version": "1.5.0",
          "state": {
            "_dom_classes": [],
            "_model_module": "@jupyter-widgets/controls",
            "_model_module_version": "1.5.0",
            "_model_name": "HTMLModel",
            "_view_count": null,
            "_view_module": "@jupyter-widgets/controls",
            "_view_module_version": "1.5.0",
            "_view_name": "HTMLView",
            "description": "",
            "description_tooltip": null,
            "layout": "IPY_MODEL_5e94627f9fc447d498a4bca204c4ac53",
            "placeholder": "​",
            "style": "IPY_MODEL_673d5011facc4ccea223761fc31ae3c7",
            "value": "100%"
          }
        },
        "9299c51963634e1f86319ab45216cea6": {
          "model_module": "@jupyter-widgets/controls",
          "model_name": "FloatProgressModel",
          "model_module_version": "1.5.0",
          "state": {
            "_dom_classes": [],
            "_model_module": "@jupyter-widgets/controls",
            "_model_module_version": "1.5.0",
            "_model_name": "FloatProgressModel",
            "_view_count": null,
            "_view_module": "@jupyter-widgets/controls",
            "_view_module_version": "1.5.0",
            "_view_name": "ProgressView",
            "bar_style": "success",
            "description": "",
            "description_tooltip": null,
            "layout": "IPY_MODEL_ddb62575a07144799a2be4797052ce6e",
            "max": 377664473,
            "min": 0,
            "orientation": "horizontal",
            "style": "IPY_MODEL_402d0c3550cb4d5e9417de12855d0b2f",
            "value": 377664473
          }
        },
        "cc9a5a51090c4279b49861ddc6f6039c": {
          "model_module": "@jupyter-widgets/controls",
          "model_name": "HTMLModel",
          "model_module_version": "1.5.0",
          "state": {
            "_dom_classes": [],
            "_model_module": "@jupyter-widgets/controls",
            "_model_module_version": "1.5.0",
            "_model_name": "HTMLModel",
            "_view_count": null,
            "_view_module": "@jupyter-widgets/controls",
            "_view_module_version": "1.5.0",
            "_view_name": "HTMLView",
            "description": "",
            "description_tooltip": null,
            "layout": "IPY_MODEL_2fbf4324a2664d199c290fe625b327cf",
            "placeholder": "​",
            "style": "IPY_MODEL_dcb8f67bcdc74fb3aed12624ffc64a9a",
            "value": " 360M/360M [00:02&lt;00:00, 195MB/s]"
          }
        },
        "2b9d930bedfc461bb6df0597a2a5df91": {
          "model_module": "@jupyter-widgets/base",
          "model_name": "LayoutModel",
          "model_module_version": "1.2.0",
          "state": {
            "_model_module": "@jupyter-widgets/base",
            "_model_module_version": "1.2.0",
            "_model_name": "LayoutModel",
            "_view_count": null,
            "_view_module": "@jupyter-widgets/base",
            "_view_module_version": "1.2.0",
            "_view_name": "LayoutView",
            "align_content": null,
            "align_items": null,
            "align_self": null,
            "border": null,
            "bottom": null,
            "display": null,
            "flex": null,
            "flex_flow": null,
            "grid_area": null,
            "grid_auto_columns": null,
            "grid_auto_flow": null,
            "grid_auto_rows": null,
            "grid_column": null,
            "grid_gap": null,
            "grid_row": null,
            "grid_template_areas": null,
            "grid_template_columns": null,
            "grid_template_rows": null,
            "height": null,
            "justify_content": null,
            "justify_items": null,
            "left": null,
            "margin": null,
            "max_height": null,
            "max_width": null,
            "min_height": null,
            "min_width": null,
            "object_fit": null,
            "object_position": null,
            "order": null,
            "overflow": null,
            "overflow_x": null,
            "overflow_y": null,
            "padding": null,
            "right": null,
            "top": null,
            "visibility": null,
            "width": null
          }
        },
        "5e94627f9fc447d498a4bca204c4ac53": {
          "model_module": "@jupyter-widgets/base",
          "model_name": "LayoutModel",
          "model_module_version": "1.2.0",
          "state": {
            "_model_module": "@jupyter-widgets/base",
            "_model_module_version": "1.2.0",
            "_model_name": "LayoutModel",
            "_view_count": null,
            "_view_module": "@jupyter-widgets/base",
            "_view_module_version": "1.2.0",
            "_view_name": "LayoutView",
            "align_content": null,
            "align_items": null,
            "align_self": null,
            "border": null,
            "bottom": null,
            "display": null,
            "flex": null,
            "flex_flow": null,
            "grid_area": null,
            "grid_auto_columns": null,
            "grid_auto_flow": null,
            "grid_auto_rows": null,
            "grid_column": null,
            "grid_gap": null,
            "grid_row": null,
            "grid_template_areas": null,
            "grid_template_columns": null,
            "grid_template_rows": null,
            "height": null,
            "justify_content": null,
            "justify_items": null,
            "left": null,
            "margin": null,
            "max_height": null,
            "max_width": null,
            "min_height": null,
            "min_width": null,
            "object_fit": null,
            "object_position": null,
            "order": null,
            "overflow": null,
            "overflow_x": null,
            "overflow_y": null,
            "padding": null,
            "right": null,
            "top": null,
            "visibility": null,
            "width": null
          }
        },
        "673d5011facc4ccea223761fc31ae3c7": {
          "model_module": "@jupyter-widgets/controls",
          "model_name": "DescriptionStyleModel",
          "model_module_version": "1.5.0",
          "state": {
            "_model_module": "@jupyter-widgets/controls",
            "_model_module_version": "1.5.0",
            "_model_name": "DescriptionStyleModel",
            "_view_count": null,
            "_view_module": "@jupyter-widgets/base",
            "_view_module_version": "1.2.0",
            "_view_name": "StyleView",
            "description_width": ""
          }
        },
        "ddb62575a07144799a2be4797052ce6e": {
          "model_module": "@jupyter-widgets/base",
          "model_name": "LayoutModel",
          "model_module_version": "1.2.0",
          "state": {
            "_model_module": "@jupyter-widgets/base",
            "_model_module_version": "1.2.0",
            "_model_name": "LayoutModel",
            "_view_count": null,
            "_view_module": "@jupyter-widgets/base",
            "_view_module_version": "1.2.0",
            "_view_name": "LayoutView",
            "align_content": null,
            "align_items": null,
            "align_self": null,
            "border": null,
            "bottom": null,
            "display": null,
            "flex": null,
            "flex_flow": null,
            "grid_area": null,
            "grid_auto_columns": null,
            "grid_auto_flow": null,
            "grid_auto_rows": null,
            "grid_column": null,
            "grid_gap": null,
            "grid_row": null,
            "grid_template_areas": null,
            "grid_template_columns": null,
            "grid_template_rows": null,
            "height": null,
            "justify_content": null,
            "justify_items": null,
            "left": null,
            "margin": null,
            "max_height": null,
            "max_width": null,
            "min_height": null,
            "min_width": null,
            "object_fit": null,
            "object_position": null,
            "order": null,
            "overflow": null,
            "overflow_x": null,
            "overflow_y": null,
            "padding": null,
            "right": null,
            "top": null,
            "visibility": null,
            "width": null
          }
        },
        "402d0c3550cb4d5e9417de12855d0b2f": {
          "model_module": "@jupyter-widgets/controls",
          "model_name": "ProgressStyleModel",
          "model_module_version": "1.5.0",
          "state": {
            "_model_module": "@jupyter-widgets/controls",
            "_model_module_version": "1.5.0",
            "_model_name": "ProgressStyleModel",
            "_view_count": null,
            "_view_module": "@jupyter-widgets/base",
            "_view_module_version": "1.2.0",
            "_view_name": "StyleView",
            "bar_color": null,
            "description_width": ""
          }
        },
        "2fbf4324a2664d199c290fe625b327cf": {
          "model_module": "@jupyter-widgets/base",
          "model_name": "LayoutModel",
          "model_module_version": "1.2.0",
          "state": {
            "_model_module": "@jupyter-widgets/base",
            "_model_module_version": "1.2.0",
            "_model_name": "LayoutModel",
            "_view_count": null,
            "_view_module": "@jupyter-widgets/base",
            "_view_module_version": "1.2.0",
            "_view_name": "LayoutView",
            "align_content": null,
            "align_items": null,
            "align_self": null,
            "border": null,
            "bottom": null,
            "display": null,
            "flex": null,
            "flex_flow": null,
            "grid_area": null,
            "grid_auto_columns": null,
            "grid_auto_flow": null,
            "grid_auto_rows": null,
            "grid_column": null,
            "grid_gap": null,
            "grid_row": null,
            "grid_template_areas": null,
            "grid_template_columns": null,
            "grid_template_rows": null,
            "height": null,
            "justify_content": null,
            "justify_items": null,
            "left": null,
            "margin": null,
            "max_height": null,
            "max_width": null,
            "min_height": null,
            "min_width": null,
            "object_fit": null,
            "object_position": null,
            "order": null,
            "overflow": null,
            "overflow_x": null,
            "overflow_y": null,
            "padding": null,
            "right": null,
            "top": null,
            "visibility": null,
            "width": null
          }
        },
        "dcb8f67bcdc74fb3aed12624ffc64a9a": {
          "model_module": "@jupyter-widgets/controls",
          "model_name": "DescriptionStyleModel",
          "model_module_version": "1.5.0",
          "state": {
            "_model_module": "@jupyter-widgets/controls",
            "_model_module_version": "1.5.0",
            "_model_name": "DescriptionStyleModel",
            "_view_count": null,
            "_view_module": "@jupyter-widgets/base",
            "_view_module_version": "1.2.0",
            "_view_name": "StyleView",
            "description_width": ""
          }
        }
      }
    }
  },
  "cells": [
    {
      "cell_type": "markdown",
      "metadata": {
        "id": "view-in-github",
        "colab_type": "text"
      },
      "source": [
        "<a href=\"https://colab.research.google.com/github/oliviaperryman/colab-notebooks/blob/master/wav_phone_pairs.ipynb\" target=\"_parent\"><img src=\"https://colab.research.google.com/assets/colab-badge.svg\" alt=\"Open In Colab\"/></a>"
      ]
    },
    {
      "cell_type": "code",
      "execution_count": null,
      "metadata": {
        "id": "Nln8Q1Zq7SDB",
        "colab": {
          "base_uri": "https://localhost:8080/"
        },
        "outputId": "97fea34b-e9d1-4e5b-ba6a-8600aaed1bb3"
      },
      "outputs": [
        {
          "output_type": "stream",
          "name": "stdout",
          "text": [
            "1.12.1+cu113\n",
            "0.12.1+cu113\n",
            "cpu\n"
          ]
        }
      ],
      "source": [
        "import os\n",
        "\n",
        "import IPython\n",
        "import matplotlib\n",
        "import matplotlib.pyplot as plt\n",
        "import requests\n",
        "import torch\n",
        "import torchaudio\n",
        "\n",
        "matplotlib.rcParams[\"figure.figsize\"] = [16.0, 4.8]\n",
        "\n",
        "torch.random.manual_seed(0)\n",
        "device = torch.device(\"cuda\" if torch.cuda.is_available() else \"cpu\")\n",
        "\n",
        "print(torch.__version__)\n",
        "print(torchaudio.__version__)\n",
        "print(device)"
      ]
    },
    {
      "cell_type": "code",
      "source": [
        "!sudo apt-get install sox"
      ],
      "metadata": {
        "id": "BY03PcGU7X9e",
        "colab": {
          "base_uri": "https://localhost:8080/"
        },
        "outputId": "f2341331-ef42-4370-ea58-5d832eab4ddb"
      },
      "execution_count": null,
      "outputs": [
        {
          "output_type": "stream",
          "name": "stdout",
          "text": [
            "Reading package lists... Done\n",
            "Building dependency tree       \n",
            "Reading state information... Done\n",
            "The following package was automatically installed and is no longer required:\n",
            "  libnvidia-common-460\n",
            "Use 'sudo apt autoremove' to remove it.\n",
            "The following additional packages will be installed:\n",
            "  libmagic-mgc libmagic1 libopencore-amrnb0 libopencore-amrwb0 libsox-fmt-alsa\n",
            "  libsox-fmt-base libsox3\n",
            "Suggested packages:\n",
            "  file libsox-fmt-all\n",
            "The following NEW packages will be installed:\n",
            "  libmagic-mgc libmagic1 libopencore-amrnb0 libopencore-amrwb0 libsox-fmt-alsa\n",
            "  libsox-fmt-base libsox3 sox\n",
            "0 upgraded, 8 newly installed, 0 to remove and 20 not upgraded.\n",
            "Need to get 760 kB of archives.\n",
            "After this operation, 6,717 kB of additional disk space will be used.\n",
            "Get:1 http://archive.ubuntu.com/ubuntu bionic/universe amd64 libopencore-amrnb0 amd64 0.1.3-2.1 [92.0 kB]\n",
            "Get:2 http://archive.ubuntu.com/ubuntu bionic/universe amd64 libopencore-amrwb0 amd64 0.1.3-2.1 [45.8 kB]\n",
            "Get:3 http://archive.ubuntu.com/ubuntu bionic-updates/main amd64 libmagic-mgc amd64 1:5.32-2ubuntu0.4 [184 kB]\n",
            "Get:4 http://archive.ubuntu.com/ubuntu bionic-updates/main amd64 libmagic1 amd64 1:5.32-2ubuntu0.4 [68.6 kB]\n",
            "Get:5 http://archive.ubuntu.com/ubuntu bionic-updates/universe amd64 libsox3 amd64 14.4.2-3ubuntu0.18.04.1 [226 kB]\n",
            "Get:6 http://archive.ubuntu.com/ubuntu bionic-updates/universe amd64 libsox-fmt-alsa amd64 14.4.2-3ubuntu0.18.04.1 [10.6 kB]\n",
            "Get:7 http://archive.ubuntu.com/ubuntu bionic-updates/universe amd64 libsox-fmt-base amd64 14.4.2-3ubuntu0.18.04.1 [32.1 kB]\n",
            "Get:8 http://archive.ubuntu.com/ubuntu bionic-updates/universe amd64 sox amd64 14.4.2-3ubuntu0.18.04.1 [101 kB]\n",
            "Fetched 760 kB in 0s (2,498 kB/s)\n",
            "debconf: unable to initialize frontend: Dialog\n",
            "debconf: (No usable dialog-like program is installed, so the dialog based frontend cannot be used. at /usr/share/perl5/Debconf/FrontEnd/Dialog.pm line 76, <> line 8.)\n",
            "debconf: falling back to frontend: Readline\n",
            "debconf: unable to initialize frontend: Readline\n",
            "debconf: (This frontend requires a controlling tty.)\n",
            "debconf: falling back to frontend: Teletype\n",
            "dpkg-preconfigure: unable to re-open stdin: \n",
            "Selecting previously unselected package libopencore-amrnb0:amd64.\n",
            "(Reading database ... 159447 files and directories currently installed.)\n",
            "Preparing to unpack .../0-libopencore-amrnb0_0.1.3-2.1_amd64.deb ...\n",
            "Unpacking libopencore-amrnb0:amd64 (0.1.3-2.1) ...\n",
            "Selecting previously unselected package libopencore-amrwb0:amd64.\n",
            "Preparing to unpack .../1-libopencore-amrwb0_0.1.3-2.1_amd64.deb ...\n",
            "Unpacking libopencore-amrwb0:amd64 (0.1.3-2.1) ...\n",
            "Selecting previously unselected package libmagic-mgc.\n",
            "Preparing to unpack .../2-libmagic-mgc_1%3a5.32-2ubuntu0.4_amd64.deb ...\n",
            "Unpacking libmagic-mgc (1:5.32-2ubuntu0.4) ...\n",
            "Selecting previously unselected package libmagic1:amd64.\n",
            "Preparing to unpack .../3-libmagic1_1%3a5.32-2ubuntu0.4_amd64.deb ...\n",
            "Unpacking libmagic1:amd64 (1:5.32-2ubuntu0.4) ...\n",
            "Selecting previously unselected package libsox3:amd64.\n",
            "Preparing to unpack .../4-libsox3_14.4.2-3ubuntu0.18.04.1_amd64.deb ...\n",
            "Unpacking libsox3:amd64 (14.4.2-3ubuntu0.18.04.1) ...\n",
            "Selecting previously unselected package libsox-fmt-alsa:amd64.\n",
            "Preparing to unpack .../5-libsox-fmt-alsa_14.4.2-3ubuntu0.18.04.1_amd64.deb ...\n",
            "Unpacking libsox-fmt-alsa:amd64 (14.4.2-3ubuntu0.18.04.1) ...\n",
            "Selecting previously unselected package libsox-fmt-base:amd64.\n",
            "Preparing to unpack .../6-libsox-fmt-base_14.4.2-3ubuntu0.18.04.1_amd64.deb ...\n",
            "Unpacking libsox-fmt-base:amd64 (14.4.2-3ubuntu0.18.04.1) ...\n",
            "Selecting previously unselected package sox.\n",
            "Preparing to unpack .../7-sox_14.4.2-3ubuntu0.18.04.1_amd64.deb ...\n",
            "Unpacking sox (14.4.2-3ubuntu0.18.04.1) ...\n",
            "Setting up libmagic-mgc (1:5.32-2ubuntu0.4) ...\n",
            "Setting up libmagic1:amd64 (1:5.32-2ubuntu0.4) ...\n",
            "Setting up libopencore-amrnb0:amd64 (0.1.3-2.1) ...\n",
            "Setting up libopencore-amrwb0:amd64 (0.1.3-2.1) ...\n",
            "Setting up libsox3:amd64 (14.4.2-3ubuntu0.18.04.1) ...\n",
            "Setting up libsox-fmt-base:amd64 (14.4.2-3ubuntu0.18.04.1) ...\n",
            "Setting up libsox-fmt-alsa:amd64 (14.4.2-3ubuntu0.18.04.1) ...\n",
            "Setting up sox (14.4.2-3ubuntu0.18.04.1) ...\n",
            "Processing triggers for libc-bin (2.27-3ubuntu1.5) ...\n",
            "Processing triggers for man-db (2.8.3-2ubuntu0.1) ...\n",
            "Processing triggers for mime-support (3.60ubuntu1) ...\n"
          ]
        }
      ]
    },
    {
      "cell_type": "code",
      "source": [
        "! pip install audiosegment"
      ],
      "metadata": {
        "id": "lNolfpYT82GT",
        "colab": {
          "base_uri": "https://localhost:8080/"
        },
        "outputId": "eb13a219-8940-4512-fd93-a715861fba54"
      },
      "execution_count": null,
      "outputs": [
        {
          "output_type": "stream",
          "name": "stdout",
          "text": [
            "Looking in indexes: https://pypi.org/simple, https://us-python.pkg.dev/colab-wheels/public/simple/\n",
            "Collecting audiosegment\n",
            "  Downloading audiosegment-0.23.0-py3-none-any.whl (34 kB)\n",
            "Collecting webrtcvad\n",
            "  Downloading webrtcvad-2.0.10.tar.gz (66 kB)\n",
            "\u001b[K     |████████████████████████████████| 66 kB 2.9 MB/s \n",
            "\u001b[?25hCollecting pydub\n",
            "  Downloading pydub-0.25.1-py2.py3-none-any.whl (32 kB)\n",
            "Requirement already satisfied: numpy in /usr/local/lib/python3.7/dist-packages (from audiosegment) (1.21.6)\n",
            "Building wheels for collected packages: webrtcvad\n",
            "  Building wheel for webrtcvad (setup.py) ... \u001b[?25l\u001b[?25hdone\n",
            "  Created wheel for webrtcvad: filename=webrtcvad-2.0.10-cp37-cp37m-linux_x86_64.whl size=72476 sha256=83805d169dccf70c8d10cfdaa76adec68b33727917484f33007ef83bbaaad2d4\n",
            "  Stored in directory: /root/.cache/pip/wheels/11/f9/67/a3158d131f57e1c0a7d8d966a707d4a2fb27567a4fe47723ad\n",
            "Successfully built webrtcvad\n",
            "Installing collected packages: webrtcvad, pydub, audiosegment\n",
            "Successfully installed audiosegment-0.23.0 pydub-0.25.1 webrtcvad-2.0.10\n"
          ]
        }
      ]
    },
    {
      "cell_type": "code",
      "source": [
        "import audiosegment\n",
        "import pandas as pd"
      ],
      "metadata": {
        "id": "_XYiFgnP9JkL"
      },
      "execution_count": null,
      "outputs": []
    },
    {
      "cell_type": "code",
      "source": [
        "seg = audiosegment.from_file(\"sa2.wav\")\n"
      ],
      "metadata": {
        "id": "vmPFXk2L9CNu"
      },
      "execution_count": null,
      "outputs": []
    },
    {
      "cell_type": "code",
      "source": [
        "seg"
      ],
      "metadata": {
        "id": "DBDMKnp19HqB",
        "colab": {
          "base_uri": "https://localhost:8080/",
          "height": 76
        },
        "outputId": "cbd259ee-7da9-41a0-f6f1-0d6692cc69ee"
      },
      "execution_count": null,
      "outputs": [
        {
          "output_type": "execute_result",
          "data": {
            "text/plain": [
              "sa2.wav: 1 channels, 16 bit, sampled @ 16.0 kHz, 2.157s long"
            ],
            "text/html": [
              "\n",
              "                    <audio controls>\n",
              "                        <source src=\"data:audio/mpeg;base64,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\" type=\"audio/mpeg\"/>\n",
              "                        Your browser does not support the audio element.\n",
              "                    </audio>\n",
              "                  "
            ]
          },
          "metadata": {},
          "execution_count": 7
        }
      ]
    },
    {
      "cell_type": "code",
      "source": [
        "txt = open(\"sa2.txt\", \"rb\")\n",
        "phones = pd.read_csv(\"sa2.phn\", header=None, delimiter=' ')\n"
      ],
      "metadata": {
        "id": "QHPrT8Rq-nLD"
      },
      "execution_count": null,
      "outputs": []
    },
    {
      "cell_type": "code",
      "source": [
        "phones"
      ],
      "metadata": {
        "id": "wgC8ErcC-y_q",
        "colab": {
          "base_uri": "https://localhost:8080/",
          "height": 1000
        },
        "outputId": "dfe2d05f-fd74-4c8d-da35-3104d865dc58"
      },
      "execution_count": null,
      "outputs": [
        {
          "output_type": "execute_result",
          "data": {
            "text/plain": [
              "        0      1    2\n",
              "0       0   2260   h#\n",
              "1    2260   2730    d\n",
              "2    2730   4120   uh\n",
              "3    4120   4600    n\n",
              "4    4600   6864   ae\n",
              "5    6864   7920    s\n",
              "6    7920   8270  kcl\n",
              "7    8270   8640    k\n",
              "8    8640   8856    m\n",
              "9    8856   9520   ix\n",
              "10   9520   9960   dx\n",
              "11   9960  10736   ix\n",
              "12  10736  11500  kcl\n",
              "13  11500  12540    k\n",
              "14  12540  13535   eh\n",
              "15  13535  14579    r\n",
              "16  14579  15800   ix\n",
              "17  15800  16474    n\n",
              "18  16474  19216   oy\n",
              "19  19216  20177    l\n",
              "20  20177  21138   ax\n",
              "21  21138  22266    r\n",
              "22  22266  24898   ae\n",
              "23  24898  25410  gcl\n",
              "24  25410  25840    g\n",
              "25  25840  27320   oy\n",
              "26  27320  29000  kcl\n",
              "27  29000  29490   dh\n",
              "28  29490  32279   ae\n",
              "29  32279  33127  tcl\n",
              "30  33127  34400   h#"
            ],
            "text/html": [
              "\n",
              "  <div id=\"df-133bd279-3604-4a4f-9f78-bc943e2e31bc\">\n",
              "    <div class=\"colab-df-container\">\n",
              "      <div>\n",
              "<style scoped>\n",
              "    .dataframe tbody tr th:only-of-type {\n",
              "        vertical-align: middle;\n",
              "    }\n",
              "\n",
              "    .dataframe tbody tr th {\n",
              "        vertical-align: top;\n",
              "    }\n",
              "\n",
              "    .dataframe thead th {\n",
              "        text-align: right;\n",
              "    }\n",
              "</style>\n",
              "<table border=\"1\" class=\"dataframe\">\n",
              "  <thead>\n",
              "    <tr style=\"text-align: right;\">\n",
              "      <th></th>\n",
              "      <th>0</th>\n",
              "      <th>1</th>\n",
              "      <th>2</th>\n",
              "    </tr>\n",
              "  </thead>\n",
              "  <tbody>\n",
              "    <tr>\n",
              "      <th>0</th>\n",
              "      <td>0</td>\n",
              "      <td>2260</td>\n",
              "      <td>h#</td>\n",
              "    </tr>\n",
              "    <tr>\n",
              "      <th>1</th>\n",
              "      <td>2260</td>\n",
              "      <td>2730</td>\n",
              "      <td>d</td>\n",
              "    </tr>\n",
              "    <tr>\n",
              "      <th>2</th>\n",
              "      <td>2730</td>\n",
              "      <td>4120</td>\n",
              "      <td>uh</td>\n",
              "    </tr>\n",
              "    <tr>\n",
              "      <th>3</th>\n",
              "      <td>4120</td>\n",
              "      <td>4600</td>\n",
              "      <td>n</td>\n",
              "    </tr>\n",
              "    <tr>\n",
              "      <th>4</th>\n",
              "      <td>4600</td>\n",
              "      <td>6864</td>\n",
              "      <td>ae</td>\n",
              "    </tr>\n",
              "    <tr>\n",
              "      <th>5</th>\n",
              "      <td>6864</td>\n",
              "      <td>7920</td>\n",
              "      <td>s</td>\n",
              "    </tr>\n",
              "    <tr>\n",
              "      <th>6</th>\n",
              "      <td>7920</td>\n",
              "      <td>8270</td>\n",
              "      <td>kcl</td>\n",
              "    </tr>\n",
              "    <tr>\n",
              "      <th>7</th>\n",
              "      <td>8270</td>\n",
              "      <td>8640</td>\n",
              "      <td>k</td>\n",
              "    </tr>\n",
              "    <tr>\n",
              "      <th>8</th>\n",
              "      <td>8640</td>\n",
              "      <td>8856</td>\n",
              "      <td>m</td>\n",
              "    </tr>\n",
              "    <tr>\n",
              "      <th>9</th>\n",
              "      <td>8856</td>\n",
              "      <td>9520</td>\n",
              "      <td>ix</td>\n",
              "    </tr>\n",
              "    <tr>\n",
              "      <th>10</th>\n",
              "      <td>9520</td>\n",
              "      <td>9960</td>\n",
              "      <td>dx</td>\n",
              "    </tr>\n",
              "    <tr>\n",
              "      <th>11</th>\n",
              "      <td>9960</td>\n",
              "      <td>10736</td>\n",
              "      <td>ix</td>\n",
              "    </tr>\n",
              "    <tr>\n",
              "      <th>12</th>\n",
              "      <td>10736</td>\n",
              "      <td>11500</td>\n",
              "      <td>kcl</td>\n",
              "    </tr>\n",
              "    <tr>\n",
              "      <th>13</th>\n",
              "      <td>11500</td>\n",
              "      <td>12540</td>\n",
              "      <td>k</td>\n",
              "    </tr>\n",
              "    <tr>\n",
              "      <th>14</th>\n",
              "      <td>12540</td>\n",
              "      <td>13535</td>\n",
              "      <td>eh</td>\n",
              "    </tr>\n",
              "    <tr>\n",
              "      <th>15</th>\n",
              "      <td>13535</td>\n",
              "      <td>14579</td>\n",
              "      <td>r</td>\n",
              "    </tr>\n",
              "    <tr>\n",
              "      <th>16</th>\n",
              "      <td>14579</td>\n",
              "      <td>15800</td>\n",
              "      <td>ix</td>\n",
              "    </tr>\n",
              "    <tr>\n",
              "      <th>17</th>\n",
              "      <td>15800</td>\n",
              "      <td>16474</td>\n",
              "      <td>n</td>\n",
              "    </tr>\n",
              "    <tr>\n",
              "      <th>18</th>\n",
              "      <td>16474</td>\n",
              "      <td>19216</td>\n",
              "      <td>oy</td>\n",
              "    </tr>\n",
              "    <tr>\n",
              "      <th>19</th>\n",
              "      <td>19216</td>\n",
              "      <td>20177</td>\n",
              "      <td>l</td>\n",
              "    </tr>\n",
              "    <tr>\n",
              "      <th>20</th>\n",
              "      <td>20177</td>\n",
              "      <td>21138</td>\n",
              "      <td>ax</td>\n",
              "    </tr>\n",
              "    <tr>\n",
              "      <th>21</th>\n",
              "      <td>21138</td>\n",
              "      <td>22266</td>\n",
              "      <td>r</td>\n",
              "    </tr>\n",
              "    <tr>\n",
              "      <th>22</th>\n",
              "      <td>22266</td>\n",
              "      <td>24898</td>\n",
              "      <td>ae</td>\n",
              "    </tr>\n",
              "    <tr>\n",
              "      <th>23</th>\n",
              "      <td>24898</td>\n",
              "      <td>25410</td>\n",
              "      <td>gcl</td>\n",
              "    </tr>\n",
              "    <tr>\n",
              "      <th>24</th>\n",
              "      <td>25410</td>\n",
              "      <td>25840</td>\n",
              "      <td>g</td>\n",
              "    </tr>\n",
              "    <tr>\n",
              "      <th>25</th>\n",
              "      <td>25840</td>\n",
              "      <td>27320</td>\n",
              "      <td>oy</td>\n",
              "    </tr>\n",
              "    <tr>\n",
              "      <th>26</th>\n",
              "      <td>27320</td>\n",
              "      <td>29000</td>\n",
              "      <td>kcl</td>\n",
              "    </tr>\n",
              "    <tr>\n",
              "      <th>27</th>\n",
              "      <td>29000</td>\n",
              "      <td>29490</td>\n",
              "      <td>dh</td>\n",
              "    </tr>\n",
              "    <tr>\n",
              "      <th>28</th>\n",
              "      <td>29490</td>\n",
              "      <td>32279</td>\n",
              "      <td>ae</td>\n",
              "    </tr>\n",
              "    <tr>\n",
              "      <th>29</th>\n",
              "      <td>32279</td>\n",
              "      <td>33127</td>\n",
              "      <td>tcl</td>\n",
              "    </tr>\n",
              "    <tr>\n",
              "      <th>30</th>\n",
              "      <td>33127</td>\n",
              "      <td>34400</td>\n",
              "      <td>h#</td>\n",
              "    </tr>\n",
              "  </tbody>\n",
              "</table>\n",
              "</div>\n",
              "      <button class=\"colab-df-convert\" onclick=\"convertToInteractive('df-133bd279-3604-4a4f-9f78-bc943e2e31bc')\"\n",
              "              title=\"Convert this dataframe to an interactive table.\"\n",
              "              style=\"display:none;\">\n",
              "        \n",
              "  <svg xmlns=\"http://www.w3.org/2000/svg\" height=\"24px\"viewBox=\"0 0 24 24\"\n",
              "       width=\"24px\">\n",
              "    <path d=\"M0 0h24v24H0V0z\" fill=\"none\"/>\n",
              "    <path d=\"M18.56 5.44l.94 2.06.94-2.06 2.06-.94-2.06-.94-.94-2.06-.94 2.06-2.06.94zm-11 1L8.5 8.5l.94-2.06 2.06-.94-2.06-.94L8.5 2.5l-.94 2.06-2.06.94zm10 10l.94 2.06.94-2.06 2.06-.94-2.06-.94-.94-2.06-.94 2.06-2.06.94z\"/><path d=\"M17.41 7.96l-1.37-1.37c-.4-.4-.92-.59-1.43-.59-.52 0-1.04.2-1.43.59L10.3 9.45l-7.72 7.72c-.78.78-.78 2.05 0 2.83L4 21.41c.39.39.9.59 1.41.59.51 0 1.02-.2 1.41-.59l7.78-7.78 2.81-2.81c.8-.78.8-2.07 0-2.86zM5.41 20L4 18.59l7.72-7.72 1.47 1.35L5.41 20z\"/>\n",
              "  </svg>\n",
              "      </button>\n",
              "      \n",
              "  <style>\n",
              "    .colab-df-container {\n",
              "      display:flex;\n",
              "      flex-wrap:wrap;\n",
              "      gap: 12px;\n",
              "    }\n",
              "\n",
              "    .colab-df-convert {\n",
              "      background-color: #E8F0FE;\n",
              "      border: none;\n",
              "      border-radius: 50%;\n",
              "      cursor: pointer;\n",
              "      display: none;\n",
              "      fill: #1967D2;\n",
              "      height: 32px;\n",
              "      padding: 0 0 0 0;\n",
              "      width: 32px;\n",
              "    }\n",
              "\n",
              "    .colab-df-convert:hover {\n",
              "      background-color: #E2EBFA;\n",
              "      box-shadow: 0px 1px 2px rgba(60, 64, 67, 0.3), 0px 1px 3px 1px rgba(60, 64, 67, 0.15);\n",
              "      fill: #174EA6;\n",
              "    }\n",
              "\n",
              "    [theme=dark] .colab-df-convert {\n",
              "      background-color: #3B4455;\n",
              "      fill: #D2E3FC;\n",
              "    }\n",
              "\n",
              "    [theme=dark] .colab-df-convert:hover {\n",
              "      background-color: #434B5C;\n",
              "      box-shadow: 0px 1px 3px 1px rgba(0, 0, 0, 0.15);\n",
              "      filter: drop-shadow(0px 1px 2px rgba(0, 0, 0, 0.3));\n",
              "      fill: #FFFFFF;\n",
              "    }\n",
              "  </style>\n",
              "\n",
              "      <script>\n",
              "        const buttonEl =\n",
              "          document.querySelector('#df-133bd279-3604-4a4f-9f78-bc943e2e31bc button.colab-df-convert');\n",
              "        buttonEl.style.display =\n",
              "          google.colab.kernel.accessAllowed ? 'block' : 'none';\n",
              "\n",
              "        async function convertToInteractive(key) {\n",
              "          const element = document.querySelector('#df-133bd279-3604-4a4f-9f78-bc943e2e31bc');\n",
              "          const dataTable =\n",
              "            await google.colab.kernel.invokeFunction('convertToInteractive',\n",
              "                                                     [key], {});\n",
              "          if (!dataTable) return;\n",
              "\n",
              "          const docLinkHtml = 'Like what you see? Visit the ' +\n",
              "            '<a target=\"_blank\" href=https://colab.research.google.com/notebooks/data_table.ipynb>data table notebook</a>'\n",
              "            + ' to learn more about interactive tables.';\n",
              "          element.innerHTML = '';\n",
              "          dataTable['output_type'] = 'display_data';\n",
              "          await google.colab.output.renderOutput(dataTable, element);\n",
              "          const docLink = document.createElement('div');\n",
              "          docLink.innerHTML = docLinkHtml;\n",
              "          element.appendChild(docLink);\n",
              "        }\n",
              "      </script>\n",
              "    </div>\n",
              "  </div>\n",
              "  "
            ]
          },
          "metadata": {},
          "execution_count": 9
        }
      ]
    },
    {
      "cell_type": "markdown",
      "source": [
        "Timit sampled at 16000Hz\n",
        "\n",
        "16000Hz to ms = 0.0625\n"
      ],
      "metadata": {
        "id": "Cv4J7Ei2EALV"
      }
    },
    {
      "cell_type": "code",
      "source": [
        "print(len(seg)) # millseconds in segment\n",
        "print(34400 * 0.0625) # phones length converted to milliseconds"
      ],
      "metadata": {
        "id": "C9lQfr6oAXvd",
        "colab": {
          "base_uri": "https://localhost:8080/"
        },
        "outputId": "a3730b3f-98cf-422b-8579-fe5c6061433d"
      },
      "execution_count": null,
      "outputs": [
        {
          "output_type": "stream",
          "name": "stdout",
          "text": [
            "2157\n",
            "2150.0\n"
          ]
        }
      ]
    },
    {
      "cell_type": "code",
      "source": [
        "seg[100:110]"
      ],
      "metadata": {
        "id": "is41ohjwFS1-",
        "colab": {
          "base_uri": "https://localhost:8080/",
          "height": 76
        },
        "outputId": "41669942-6098-41d9-df95-a7860041f1cb"
      },
      "execution_count": null,
      "outputs": [
        {
          "output_type": "execute_result",
          "data": {
            "text/plain": [
              "sa2.wav: 1 channels, 16 bit, sampled @ 16.0 kHz, 0.010s long"
            ],
            "text/html": [
              "\n",
              "                    <audio controls>\n",
              "                        <source src=\"data:audio/mpeg;base64,SUQzBAAAAAAAI1RTU0UAAAAPAAADTGF2ZjU3LjgzLjEwMAAAAAAAAAAAAAAA//NYwAAAAAAAAAAAAEluZm8AAAAPAAAAAwAAAfgAkpKSkpKSkpKSkpKSkpKSkpKSkpKSkpKSkpKSkpKSkpKSycnJycnJycnJycnJycnJycnJycnJycnJycnJycnJycnJ////////////////////////////////////////////AAAAAExhdmM1Ny4xMAAAAAAAAAAAAAAAACQD4AAAAAAAAAH4cujIZAAAAAAAAAAAAAAA//M4xAASgVYMCHjENICxro0FQ8Vgh4Bi9368c0J3dz6nfyE6uhzu6Er/U/9T6Eac75BBJcHPieXTE+cE4Ph8u8EFjgfy/8EJfLh8+sPiBwYlAxB9+tQYCf7TqDkFVwEBQEWQRUePBqIoK5Z+//M4xBURQA4o1GDEACKWPBriURSSzuCrjwNCUFQ19YSPHTyxh6JQ1U9loi89BXlh509tEUqp4mw7uPcRFR0BEFhrHAzPF6xOlQm2H+c1lQy+2WWWWyz7LZZ/LZZ/LZf/tlnLLZY5ctllllBg//M4xC8SiZVgCmBGgISB5QlFQyZ+sV4s01/1C4rxYW+KiosLCwsLiqpMQU1FMy4xMDCqqqqqqqqqqqqqqqqqqqqqqqqqqqqqqqqqqqqqqqqqqqqqqqqqqqqqqqqqqqqqqqqqqqqqqqqqqqqq\" type=\"audio/mpeg\"/>\n",
              "                        Your browser does not support the audio element.\n",
              "                    </audio>\n",
              "                  "
            ]
          },
          "metadata": {},
          "execution_count": 11
        }
      ]
    },
    {
      "cell_type": "code",
      "source": [
        "from collections import defaultdict\n",
        "phone_wavs = defaultdict(list)"
      ],
      "metadata": {
        "id": "450NXWglEmIj"
      },
      "execution_count": null,
      "outputs": []
    },
    {
      "cell_type": "code",
      "source": [
        "for _,(start,stop,phone) in phones.iterrows():\n",
        "  snippet = seg[start* 0.0625 // 1:stop* 0.0625 //1]\n",
        "  phone_wavs[phone].append(snippet)\n"
      ],
      "metadata": {
        "id": "pyZ1AIR3-2fR"
      },
      "execution_count": null,
      "outputs": []
    },
    {
      "cell_type": "code",
      "source": [
        "phone_wavs"
      ],
      "metadata": {
        "id": "nbEmLKv4_ymI",
        "colab": {
          "base_uri": "https://localhost:8080/"
        },
        "outputId": "4df4f8c9-69b2-48f7-e68a-d99471759f0d"
      },
      "execution_count": null,
      "outputs": [
        {
          "output_type": "execute_result",
          "data": {
            "text/plain": [
              "defaultdict(list,\n",
              "            {'h#': [sa2.wav: 1 channels, 16 bit, sampled @ 16.0 kHz, 0.141s long,\n",
              "              sa2.wav: 1 channels, 16 bit, sampled @ 16.0 kHz, 0.080s long],\n",
              "             'd': [sa2.wav: 1 channels, 16 bit, sampled @ 16.0 kHz, 0.029s long],\n",
              "             'uh': [sa2.wav: 1 channels, 16 bit, sampled @ 16.0 kHz, 0.087s long],\n",
              "             'n': [sa2.wav: 1 channels, 16 bit, sampled @ 16.0 kHz, 0.030s long,\n",
              "              sa2.wav: 1 channels, 16 bit, sampled @ 16.0 kHz, 0.042s long],\n",
              "             'ae': [sa2.wav: 1 channels, 16 bit, sampled @ 16.0 kHz, 0.142s long,\n",
              "              sa2.wav: 1 channels, 16 bit, sampled @ 16.0 kHz, 0.165s long,\n",
              "              sa2.wav: 1 channels, 16 bit, sampled @ 16.0 kHz, 0.174s long],\n",
              "             's': [sa2.wav: 1 channels, 16 bit, sampled @ 16.0 kHz, 0.066s long],\n",
              "             'kcl': [sa2.wav: 1 channels, 16 bit, sampled @ 16.0 kHz, 0.021s long,\n",
              "              sa2.wav: 1 channels, 16 bit, sampled @ 16.0 kHz, 0.047s long,\n",
              "              sa2.wav: 1 channels, 16 bit, sampled @ 16.0 kHz, 0.105s long],\n",
              "             'k': [sa2.wav: 1 channels, 16 bit, sampled @ 16.0 kHz, 0.024s long,\n",
              "              sa2.wav: 1 channels, 16 bit, sampled @ 16.0 kHz, 0.065s long],\n",
              "             'm': [sa2.wav: 1 channels, 16 bit, sampled @ 16.0 kHz, 0.013s long],\n",
              "             'ix': [sa2.wav: 1 channels, 16 bit, sampled @ 16.0 kHz, 0.042s long,\n",
              "              sa2.wav: 1 channels, 16 bit, sampled @ 16.0 kHz, 0.049s long,\n",
              "              sa2.wav: 1 channels, 16 bit, sampled @ 16.0 kHz, 0.076s long],\n",
              "             'dx': [sa2.wav: 1 channels, 16 bit, sampled @ 16.0 kHz, 0.027s long],\n",
              "             'eh': [sa2.wav: 1 channels, 16 bit, sampled @ 16.0 kHz, 0.062s long],\n",
              "             'r': [sa2.wav: 1 channels, 16 bit, sampled @ 16.0 kHz, 0.066s long,\n",
              "              sa2.wav: 1 channels, 16 bit, sampled @ 16.0 kHz, 0.070s long],\n",
              "             'oy': [sa2.wav: 1 channels, 16 bit, sampled @ 16.0 kHz, 0.172s long,\n",
              "              sa2.wav: 1 channels, 16 bit, sampled @ 16.0 kHz, 0.092s long],\n",
              "             'l': [sa2.wav: 1 channels, 16 bit, sampled @ 16.0 kHz, 0.060s long],\n",
              "             'ax': [sa2.wav: 1 channels, 16 bit, sampled @ 16.0 kHz, 0.060s long],\n",
              "             'gcl': [sa2.wav: 1 channels, 16 bit, sampled @ 16.0 kHz, 0.032s long],\n",
              "             'g': [sa2.wav: 1 channels, 16 bit, sampled @ 16.0 kHz, 0.027s long],\n",
              "             'dh': [sa2.wav: 1 channels, 16 bit, sampled @ 16.0 kHz, 0.031s long],\n",
              "             'tcl': [sa2.wav: 1 channels, 16 bit, sampled @ 16.0 kHz, 0.053s long]})"
            ]
          },
          "metadata": {},
          "execution_count": 14
        }
      ]
    },
    {
      "cell_type": "code",
      "source": [
        "phone_wavs.pop('h#')"
      ],
      "metadata": {
        "id": "EsDenq9sHgq8",
        "colab": {
          "base_uri": "https://localhost:8080/"
        },
        "outputId": "83ccbd29-5e52-497c-c29a-b9528db636c7"
      },
      "execution_count": null,
      "outputs": [
        {
          "output_type": "execute_result",
          "data": {
            "text/plain": [
              "[sa2.wav: 1 channels, 16 bit, sampled @ 16.0 kHz, 0.141s long,\n",
              " sa2.wav: 1 channels, 16 bit, sampled @ 16.0 kHz, 0.080s long]"
            ]
          },
          "metadata": {},
          "execution_count": 15
        }
      ]
    },
    {
      "cell_type": "code",
      "source": [
        "import os\n",
        "os.makedirs('paired_data')"
      ],
      "metadata": {
        "id": "Dp4gTQ3DHR8Z"
      },
      "execution_count": null,
      "outputs": []
    },
    {
      "cell_type": "code",
      "source": [
        "for phone, samples in phone_wavs.items():\n",
        "  try:\n",
        "    os.makedirs(f'paired_data/{phone}')\n",
        "    for i,s in enumerate(samples):\n",
        "      s.export(f'paired_data/{phone}/{phone}_{i}.wav', format='WAV')\n",
        "  except Exception as e:\n",
        "    print(e)"
      ],
      "metadata": {
        "id": "xQIad-H3G7sj"
      },
      "execution_count": null,
      "outputs": []
    },
    {
      "cell_type": "code",
      "source": [
        "!zip -r /content/paired_data.zip /content/paired_data"
      ],
      "metadata": {
        "id": "TwWyZyqYJcrp",
        "colab": {
          "base_uri": "https://localhost:8080/"
        },
        "outputId": "41d3b585-e7bd-4509-f1e7-e215fe0d058e"
      },
      "execution_count": null,
      "outputs": [
        {
          "output_type": "stream",
          "name": "stdout",
          "text": [
            "  adding: content/paired_data/ (stored 0%)\n",
            "  adding: content/paired_data/tcl/ (stored 0%)\n",
            "  adding: content/paired_data/tcl/tcl_0.wav (deflated 51%)\n",
            "  adding: content/paired_data/s/ (stored 0%)\n",
            "  adding: content/paired_data/s/s_0.wav (deflated 24%)\n",
            "  adding: content/paired_data/m/ (stored 0%)\n",
            "  adding: content/paired_data/m/m_0.wav (deflated 16%)\n",
            "  adding: content/paired_data/eh/ (stored 0%)\n",
            "  adding: content/paired_data/eh/eh_0.wav (deflated 15%)\n",
            "  adding: content/paired_data/g/ (stored 0%)\n",
            "  adding: content/paired_data/g/g_0.wav (deflated 32%)\n",
            "  adding: content/paired_data/dh/ (stored 0%)\n",
            "  adding: content/paired_data/dh/dh_0.wav (deflated 31%)\n",
            "  adding: content/paired_data/k/ (stored 0%)\n",
            "  adding: content/paired_data/k/k_1.wav (deflated 28%)\n",
            "  adding: content/paired_data/k/k_0.wav (deflated 33%)\n",
            "  adding: content/paired_data/n/ (stored 0%)\n",
            "  adding: content/paired_data/n/n_1.wav (deflated 27%)\n",
            "  adding: content/paired_data/n/n_0.wav (deflated 20%)\n",
            "  adding: content/paired_data/dx/ (stored 0%)\n",
            "  adding: content/paired_data/dx/dx_0.wav (deflated 23%)\n",
            "  adding: content/paired_data/oy/ (stored 0%)\n",
            "  adding: content/paired_data/oy/oy_0.wav (deflated 26%)\n",
            "  adding: content/paired_data/oy/oy_1.wav (deflated 25%)\n",
            "  adding: content/paired_data/uh/ (stored 0%)\n",
            "  adding: content/paired_data/uh/uh_0.wav (deflated 22%)\n",
            "  adding: content/paired_data/ix/ (stored 0%)\n",
            "  adding: content/paired_data/ix/ix_2.wav (deflated 22%)\n",
            "  adding: content/paired_data/ix/ix_1.wav (deflated 23%)\n",
            "  adding: content/paired_data/ix/ix_0.wav (deflated 21%)\n",
            "  adding: content/paired_data/d/ (stored 0%)\n",
            "  adding: content/paired_data/d/d_0.wav (deflated 25%)\n",
            "  adding: content/paired_data/kcl/ (stored 0%)\n",
            "  adding: content/paired_data/kcl/kcl_0.wav (deflated 44%)\n",
            "  adding: content/paired_data/kcl/kcl_2.wav (deflated 64%)\n",
            "  adding: content/paired_data/kcl/kcl_1.wav (deflated 55%)\n",
            "  adding: content/paired_data/l/ (stored 0%)\n",
            "  adding: content/paired_data/l/l_0.wav (deflated 26%)\n",
            "  adding: content/paired_data/ax/ (stored 0%)\n",
            "  adding: content/paired_data/ax/ax_0.wav (deflated 25%)\n",
            "  adding: content/paired_data/r/ (stored 0%)\n",
            "  adding: content/paired_data/r/r_1.wav (deflated 25%)\n",
            "  adding: content/paired_data/r/r_0.wav (deflated 15%)\n",
            "  adding: content/paired_data/ae/ (stored 0%)\n",
            "  adding: content/paired_data/ae/ae_2.wav (deflated 27%)\n",
            "  adding: content/paired_data/ae/ae_0.wav (deflated 20%)\n",
            "  adding: content/paired_data/ae/ae_1.wav (deflated 21%)\n",
            "  adding: content/paired_data/gcl/ (stored 0%)\n",
            "  adding: content/paired_data/gcl/gcl_0.wav (deflated 44%)\n"
          ]
        }
      ]
    },
    {
      "cell_type": "markdown",
      "source": [
        "# Get Embeddings\n"
      ],
      "metadata": {
        "id": "iXs3To0gJoSG"
      }
    },
    {
      "cell_type": "code",
      "source": [
        "bundle = torchaudio.pipelines.WAV2VEC2_ASR_BASE_960H"
      ],
      "metadata": {
        "id": "8dWqixp-Jrc-"
      },
      "execution_count": null,
      "outputs": []
    },
    {
      "cell_type": "code",
      "source": [
        "model = bundle.get_model().to(device)"
      ],
      "metadata": {
        "id": "SUjjoCtyLcFl",
        "colab": {
          "base_uri": "https://localhost:8080/",
          "height": 86,
          "referenced_widgets": [
            "de675dde30d047dca8ebcdcb27a3ac69",
            "eeee56ba1ee04d06a6ff199a772f5f8d",
            "9299c51963634e1f86319ab45216cea6",
            "cc9a5a51090c4279b49861ddc6f6039c",
            "2b9d930bedfc461bb6df0597a2a5df91",
            "5e94627f9fc447d498a4bca204c4ac53",
            "673d5011facc4ccea223761fc31ae3c7",
            "ddb62575a07144799a2be4797052ce6e",
            "402d0c3550cb4d5e9417de12855d0b2f",
            "2fbf4324a2664d199c290fe625b327cf",
            "dcb8f67bcdc74fb3aed12624ffc64a9a"
          ]
        },
        "outputId": "91e722fd-36a3-4f4f-c0a4-673d947c587c"
      },
      "execution_count": null,
      "outputs": [
        {
          "output_type": "stream",
          "name": "stderr",
          "text": [
            "Downloading: \"https://download.pytorch.org/torchaudio/models/wav2vec2_fairseq_base_ls960_asr_ls960.pth\" to /root/.cache/torch/hub/checkpoints/wav2vec2_fairseq_base_ls960_asr_ls960.pth\n"
          ]
        },
        {
          "output_type": "display_data",
          "data": {
            "text/plain": [
              "  0%|          | 0.00/360M [00:00<?, ?B/s]"
            ],
            "application/vnd.jupyter.widget-view+json": {
              "version_major": 2,
              "version_minor": 0,
              "model_id": "de675dde30d047dca8ebcdcb27a3ac69"
            }
          },
          "metadata": {}
        }
      ]
    },
    {
      "cell_type": "code",
      "source": [
        "waveform, sample_rate = torchaudio.load(\"paired_data/ae/ae_1.wav\")"
      ],
      "metadata": {
        "id": "UV4jndguLeWi"
      },
      "execution_count": null,
      "outputs": []
    },
    {
      "cell_type": "code",
      "source": [
        "waveform = waveform.to(device)"
      ],
      "metadata": {
        "id": "NX2f3hlbL8Cb"
      },
      "execution_count": null,
      "outputs": []
    },
    {
      "cell_type": "code",
      "source": [
        "# Both 16000\n",
        "# if sample_rate != bundle.sample_rate:\n",
        "#     waveform = torchaudio.functional.resample(waveform, sample_rate, bundle.sample_rate)"
      ],
      "metadata": {
        "id": "8HIvysiuMBmo"
      },
      "execution_count": null,
      "outputs": []
    },
    {
      "cell_type": "code",
      "source": [
        "waveform"
      ],
      "metadata": {
        "id": "KL5Uj1T1MJwh",
        "colab": {
          "base_uri": "https://localhost:8080/"
        },
        "outputId": "55834902-d3e3-4386-d838-9a229fc512d9"
      },
      "execution_count": null,
      "outputs": [
        {
          "output_type": "execute_result",
          "data": {
            "text/plain": [
              "tensor([[-1.1292e-03, -6.1035e-04,  9.1553e-05,  ...,  1.4038e-03,\n",
              "          9.7656e-04,  1.0376e-03]])"
            ]
          },
          "metadata": {},
          "execution_count": 24
        }
      ]
    },
    {
      "cell_type": "code",
      "source": [
        "with torch.inference_mode():\n",
        "    features, _ = model.extract_features(waveform)"
      ],
      "metadata": {
        "id": "aUZeGxN3MNdk"
      },
      "execution_count": null,
      "outputs": []
    },
    {
      "cell_type": "code",
      "source": [
        "from glob import glob\n",
        "all_wav_snippets = [y for x in os.walk(\"paired_data\") for y in glob(os.path.join(x[0], '*.wav'))]"
      ],
      "metadata": {
        "id": "cTJ_R2oWOTrw"
      },
      "execution_count": null,
      "outputs": []
    },
    {
      "cell_type": "code",
      "source": [
        "feature_pairs = []"
      ],
      "metadata": {
        "id": "2ESZTNvcRV0u"
      },
      "execution_count": null,
      "outputs": []
    },
    {
      "cell_type": "code",
      "source": [
        "with torch.inference_mode():\n",
        "  for snippet in all_wav_snippets:\n",
        "    try:\n",
        "      waveform,  _  = torchaudio.load(snippet)\n",
        "      waveform = waveform.to(device)\n",
        "      features, _ = model.extract_features(waveform)\n",
        "      feature_pairs.append(((snippet.split('/')[-1].split('_')[0]), features[-1]))\n",
        "    except Exception as e:\n",
        "      print(e)\n",
        "      print(snippet)"
      ],
      "metadata": {
        "id": "WSa3_tG0Oquq",
        "colab": {
          "base_uri": "https://localhost:8080/"
        },
        "outputId": "3931d6de-23d1-46ed-adc4-afa370ca9ea7"
      },
      "execution_count": null,
      "outputs": [
        {
          "output_type": "stream",
          "name": "stdout",
          "text": [
            "Calculated padded input size per channel: (1). Kernel size: (2). Kernel size can't be greater than actual input size\n",
            "paired_data/m/m_0.wav\n",
            "Calculated padded input size per channel: (1). Kernel size: (2). Kernel size can't be greater than actual input size\n",
            "paired_data/k/k_0.wav\n",
            "Calculated padded input size per channel: (1). Kernel size: (2). Kernel size can't be greater than actual input size\n",
            "paired_data/kcl/kcl_0.wav\n"
          ]
        }
      ]
    },
    {
      "cell_type": "code",
      "source": [
        "for fp in feature_pairs:\n",
        "  print(fp[0])\n",
        "  print(fp[1].shape)\n"
      ],
      "metadata": {
        "id": "Dw2sKBmUR3pD",
        "colab": {
          "base_uri": "https://localhost:8080/"
        },
        "outputId": "a4719a3e-88b0-47fc-880b-b4c21bd95df1"
      },
      "execution_count": null,
      "outputs": [
        {
          "output_type": "stream",
          "name": "stdout",
          "text": [
            "tcl\n",
            "torch.Size([1, 2, 768])\n",
            "s\n",
            "torch.Size([1, 3, 768])\n",
            "eh\n",
            "torch.Size([1, 2, 768])\n",
            "g\n",
            "torch.Size([1, 1, 768])\n",
            "dh\n",
            "torch.Size([1, 1, 768])\n",
            "k\n",
            "torch.Size([1, 3, 768])\n",
            "n\n",
            "torch.Size([1, 1, 768])\n",
            "n\n",
            "torch.Size([1, 1, 768])\n",
            "dx\n",
            "torch.Size([1, 1, 768])\n",
            "oy\n",
            "torch.Size([1, 8, 768])\n",
            "oy\n",
            "torch.Size([1, 4, 768])\n",
            "uh\n",
            "torch.Size([1, 4, 768])\n",
            "ix\n",
            "torch.Size([1, 3, 768])\n",
            "ix\n",
            "torch.Size([1, 2, 768])\n",
            "ix\n",
            "torch.Size([1, 1, 768])\n",
            "d\n",
            "torch.Size([1, 1, 768])\n",
            "kcl\n",
            "torch.Size([1, 5, 768])\n",
            "kcl\n",
            "torch.Size([1, 2, 768])\n",
            "l\n",
            "torch.Size([1, 2, 768])\n",
            "ax\n",
            "torch.Size([1, 2, 768])\n",
            "r\n",
            "torch.Size([1, 3, 768])\n",
            "r\n",
            "torch.Size([1, 3, 768])\n",
            "ae\n",
            "torch.Size([1, 8, 768])\n",
            "ae\n",
            "torch.Size([1, 6, 768])\n",
            "ae\n",
            "torch.Size([1, 8, 768])\n",
            "gcl\n",
            "torch.Size([1, 1, 768])\n"
          ]
        }
      ]
    },
    {
      "cell_type": "code",
      "source": [
        "import torch.nn.functional as F"
      ],
      "metadata": {
        "id": "-GxDrd4Vnb0r"
      },
      "execution_count": null,
      "outputs": []
    },
    {
      "cell_type": "code",
      "source": [
        "def zero_pad_tensor(tensor, dim=8):\n",
        "  tensor = tensor.squeeze(dim=0)\n",
        "\n",
        "  # pad if size is less than desired dim\n",
        "  if tensor.shape[0] < dim:\n",
        "    dims_to_add = dim - (tensor.shape[0])\n",
        "    tensor = F.pad(tensor,(0,0,0,dims_to_add),\"constant\", 0)\n",
        "\n",
        "  #truncate if size is greater than desired dim\n",
        "  if tensor.shape[0] > dim:\n",
        "    tensor = tensor[0:dim, :]\n",
        "\n",
        "  return tensor"
      ],
      "metadata": {
        "id": "G7hNUJq1pFA5"
      },
      "execution_count": null,
      "outputs": []
    },
    {
      "cell_type": "code",
      "source": [
        "for fp in feature_pairs:\n",
        "  print(fp[0])\n",
        "  a = fp[1]\n",
        "  # print(a.shape)\n",
        "  # a = a.squeeze(dim=0)\n",
        "  # print(a.shape)\n",
        "  # dims_to_add = 8 - (a.shape[0])\n",
        "  # print(dims_to_add)\n",
        "  # out = F.pad(a,(0,0,0,dims_to_add),\"constant\", 0)\n",
        "  # out = a[0:5, :]\n",
        "  out = zero_pad_tensor(a,8)\n",
        "  print(out.shape)\n",
        "  # print(out)\n"
      ],
      "metadata": {
        "colab": {
          "base_uri": "https://localhost:8080/"
        },
        "id": "VMgZjHSxk6yA",
        "outputId": "1847c814-b501-4a17-fa27-7e3712b39b7e"
      },
      "execution_count": null,
      "outputs": [
        {
          "output_type": "stream",
          "name": "stdout",
          "text": [
            "tcl\n",
            "torch.Size([8, 768])\n",
            "s\n",
            "torch.Size([8, 768])\n",
            "eh\n",
            "torch.Size([8, 768])\n",
            "g\n",
            "torch.Size([8, 768])\n",
            "dh\n",
            "torch.Size([8, 768])\n",
            "k\n",
            "torch.Size([8, 768])\n",
            "n\n",
            "torch.Size([8, 768])\n",
            "n\n",
            "torch.Size([8, 768])\n",
            "dx\n",
            "torch.Size([8, 768])\n",
            "oy\n",
            "torch.Size([8, 768])\n",
            "oy\n",
            "torch.Size([8, 768])\n",
            "uh\n",
            "torch.Size([8, 768])\n",
            "ix\n",
            "torch.Size([8, 768])\n",
            "ix\n",
            "torch.Size([8, 768])\n",
            "ix\n",
            "torch.Size([8, 768])\n",
            "d\n",
            "torch.Size([8, 768])\n",
            "kcl\n",
            "torch.Size([8, 768])\n",
            "kcl\n",
            "torch.Size([8, 768])\n",
            "l\n",
            "torch.Size([8, 768])\n",
            "ax\n",
            "torch.Size([8, 768])\n",
            "r\n",
            "torch.Size([8, 768])\n",
            "r\n",
            "torch.Size([8, 768])\n",
            "ae\n",
            "torch.Size([8, 768])\n",
            "ae\n",
            "torch.Size([8, 768])\n",
            "ae\n",
            "torch.Size([8, 768])\n",
            "gcl\n",
            "torch.Size([8, 768])\n"
          ]
        }
      ]
    },
    {
      "cell_type": "code",
      "source": [
        "avg_feature_pairs = []"
      ],
      "metadata": {
        "id": "HZ4easRtVf5B"
      },
      "execution_count": null,
      "outputs": []
    },
    {
      "cell_type": "code",
      "source": [
        "for fp in feature_pairs:\n",
        "  a = fp[1].squeeze()\n",
        "  if len(a.shape) > 1:\n",
        "    a = torch.mean(a,0)\n",
        "  avg_feature_pairs.append((fp[0],a))"
      ],
      "metadata": {
        "id": "2Ki5J8NsSrKG"
      },
      "execution_count": null,
      "outputs": []
    },
    {
      "cell_type": "code",
      "source": [
        "import csv"
      ],
      "metadata": {
        "id": "SapIbuG-WF6W"
      },
      "execution_count": null,
      "outputs": []
    },
    {
      "cell_type": "code",
      "source": [
        "with open('vectors.tsv', 'w', newline='') as tsvfile:\n",
        "  writer = csv.writer(tsvfile, delimiter='\\t', lineterminator='\\n')\n",
        "  for _, vector in avg_feature_pairs:\n",
        "    writer.writerow(vector.numpy())\n"
      ],
      "metadata": {
        "id": "-lmgEz2QVpKy"
      },
      "execution_count": null,
      "outputs": []
    },
    {
      "cell_type": "code",
      "source": [
        "with open('labels.tsv', 'w', newline='') as tsvfile:\n",
        "  writer = csv.writer(tsvfile, delimiter='\\t', lineterminator='\\n')\n",
        "  for label, _ in avg_feature_pairs:\n",
        "    writer.writerow([label])\n"
      ],
      "metadata": {
        "id": "MNxRdYaeWX5a"
      },
      "execution_count": null,
      "outputs": []
    }
  ]
}